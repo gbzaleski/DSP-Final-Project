{
 "cells": [
  {
   "cell_type": "code",
   "execution_count": 151,
   "id": "e6cf3608",
   "metadata": {},
   "outputs": [
    {
     "name": "stdout",
     "output_type": "stream",
     "text": [
      "(17232, 10)\n",
      "(266, 66)\n",
      "(266, 66)\n"
     ]
    }
   ],
   "source": [
    "import pandas as pd\n",
    "emissions = pd.read_csv('co2-fossil-by-nation_zip/data/fossil-fuel-co2-emissions-by-nation_csv.csv')\n",
    "emissions['Country'] = emissions['Country'].map(lambda n: n.lower())\n",
    "print(emissions.shape)\n",
    "\n",
    "# Deletes extra unnamed columns with NaNs\n",
    "population = pd.read_csv('API_SP.POP.TOTL_DS2_en_csv_v2_4751604/API_SP.POP.TOTL_DS2_en_csv_v2_4751604.csv').dropna(how='all', axis='columns')\n",
    "print(population.shape)\n",
    "population['Country Name'] = population['Country Name'].map(lambda n: n.lower())\n",
    "\n",
    "gdps = pd.read_csv('API_NY.GDP.MKTP.CD_DS2_en_csv_v2_4751562/API_NY.GDP.MKTP.CD_DS2_en_csv_v2_4751562.csv').dropna(how='all', axis='columns')\n",
    "gdps['Country Name'] = gdps['Country Name'].map(lambda n: n.lower())\n",
    "print(gdps.shape)\n"
   ]
  },
  {
   "cell_type": "markdown",
   "id": "afa742bd",
   "metadata": {},
   "source": []
  },
  {
   "cell_type": "code",
   "execution_count": 156,
   "id": "0df2ac00",
   "metadata": {},
   "outputs": [
    {
     "data": {
      "text/plain": [
       "12465    ukraine\n",
       "12678    ukraine\n",
       "12892    ukraine\n",
       "13106    ukraine\n",
       "13320    ukraine\n",
       "13534    ukraine\n",
       "13748    ukraine\n",
       "13962    ukraine\n",
       "14176    ukraine\n",
       "14390    ukraine\n",
       "14606    ukraine\n",
       "14822    ukraine\n",
       "15038    ukraine\n",
       "15254    ukraine\n",
       "15472    ukraine\n",
       "15690    ukraine\n",
       "15907    ukraine\n",
       "16124    ukraine\n",
       "16341    ukraine\n",
       "16558    ukraine\n",
       "16778    ukraine\n",
       "16998    ukraine\n",
       "17218    ukraine\n",
       "Name: Country, dtype: object"
      ]
     },
     "execution_count": 156,
     "metadata": {},
     "output_type": "execute_result"
    }
   ],
   "source": [
    "import numpy as np\n",
    "import difflib\n",
    "\n",
    "countries_emissions = np.sort(emissions['Country'].unique())\n",
    "countries_list = np.sort(population['Country Name'].unique())\n",
    "# countries_gdps = countries_population\n",
    "\n",
    "decapitalise = np.vectorize(lambda x : x.lower())\n",
    "countries_emissions = decapitalise(countries_emissions)\n",
    "countries_list = decapitalise(countries_list)\n",
    "\n",
    "matches = {} # name -> (correct_name, similarity)\n",
    "\n",
    "#difflib.get_close_matches(\"Hallo\", words, len(words), 0)\n",
    "for name in countries_emissions:\n",
    "    res = difflib.get_close_matches(name, countries_list, len(countries_list), 0)[0]\n",
    "    matches[name] = res\n",
    "\n",
    "# Manual updates\n",
    "matches['czech republic'] = 'czechia'\n",
    "matches['china (mainland)'] = 'china'\n",
    "matches['democratic republic of the congo (formerly zaire)'] = 'congo, dem. rep.'\n",
    "matches['congo'] = 'congo, rep.'\n",
    "matches['democratic republic of vietnam'] = 'vietnam'\n",
    "matches['federated states of micronesia'] = 'micronesia, fed. sts.'\n",
    "matches['gambia'] = 'gambia, the'\n",
    "matches['france (including monaco)'] = 'france'\n",
    "matches['kyrgyzstan'] = 'kyrgyz republic'\n",
    "matches['federal republic of germany'] = 'germany'\n",
    "matches['japan (excluding the ruyuku islands)'] = 'japan'\n",
    "matches['lao people s democratic republic'] = 'lao pdr'\n",
    "matches['italy (including san marino)'] = 'italy'\n",
    "matches['islamic republic of iran'] = 'iran, islamic rep.'\n",
    "matches['plurinational state of bolivia'] = 'bolivia'\n",
    "matches['slovakia'] = 'slovak republic'\n",
    "matches['myanmar (formerly burma)'] = 'myanmar'\n",
    "matches['republic of korea'] = 'korea, rep.'\n",
    "matches['libyan arab jamahiriyah'] = 'libya'\n",
    "\n",
    "del matches['zanzibar']\n",
    "del matches['antarctic fisheries']\n",
    "del matches['christmas island']\n",
    "del matches['ussr']\n",
    "del matches['united korea']\n",
    "del matches['former panama canal zone']\n",
    "del matches['occupied palestinian territory']\n",
    "del matches['saint helena']\n",
    "del matches['republic of south vietnam']\n",
    "del matches['taiwan']\n",
    "del matches['yugoslavia (former socialist federal republic)']\n",
    "del matches['bonaire, saint eustatius, and saba']\n",
    "del matches['niue']\n",
    "\n",
    "emissions['Country'][emissions['Country'] == 'ukraine']"
   ]
  },
  {
   "cell_type": "code",
   "execution_count": null,
   "id": "4597488a",
   "metadata": {},
   "outputs": [],
   "source": []
  },
  {
   "cell_type": "code",
   "execution_count": null,
   "id": "0b2db080",
   "metadata": {
    "scrolled": false
   },
   "outputs": [],
   "source": []
  }
 ],
 "metadata": {
  "kernelspec": {
   "display_name": "Python 3 (ipykernel)",
   "language": "python",
   "name": "python3"
  },
  "language_info": {
   "codemirror_mode": {
    "name": "ipython",
    "version": 3
   },
   "file_extension": ".py",
   "mimetype": "text/x-python",
   "name": "python",
   "nbconvert_exporter": "python",
   "pygments_lexer": "ipython3",
   "version": "3.10.8"
  }
 },
 "nbformat": 4,
 "nbformat_minor": 5
}
